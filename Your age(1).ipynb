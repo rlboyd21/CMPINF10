{
 "cells": [
  {
   "cell_type": "code",
   "execution_count": null,
   "id": "69eca92a-7c97-4474-bb8e-9a299f7ad2dc",
   "metadata": {},
   "outputs": [],
   "source": [
    "age = input(\"Please enter your age: \")\n",
    "print(f\"You are {age} years old!\")"
   ]
  }
 ],
 "metadata": {
  "kernelspec": {
   "display_name": "Python 3 (ipykernel)",
   "language": "python",
   "name": "python3"
  },
  "language_info": {
   "codemirror_mode": {
    "name": "ipython",
    "version": 3
   },
   "file_extension": ".py",
   "mimetype": "text/x-python",
   "name": "python",
   "nbconvert_exporter": "python",
   "pygments_lexer": "ipython3",
   "version": "3.11.13"
  }
 },
 "nbformat": 4,
 "nbformat_minor": 5
}
